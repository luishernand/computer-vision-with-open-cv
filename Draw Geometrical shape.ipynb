{
 "cells": [
  {
   "cell_type": "markdown",
   "id": "4cc0cd51",
   "metadata": {},
   "source": [
    "# Draw Geometrical Shapes"
   ]
  },
  {
   "cell_type": "code",
   "execution_count": 1,
   "id": "2e157623",
   "metadata": {},
   "outputs": [],
   "source": [
    "# Libraries\n",
    "import numpy as np\n",
    "import cv2"
   ]
  },
  {
   "cell_type": "code",
   "execution_count": 5,
   "id": "30b3dd61",
   "metadata": {},
   "outputs": [],
   "source": [
    "## Define mouse positions parameters\n",
    "draw = False\n",
    "ix, iy = -1,-1 #mouse position\n",
    "\n",
    "# funt to create renctangle\n",
    "\n",
    "def rectangle(event, x, y, flagval, par):\n",
    "    global draw, ix,iy\n",
    "    \n",
    "    if event == cv2.EVENT_LBUTTONDOWN:\n",
    "        draw = True\n",
    "        ix,iy = x,y\n",
    "    elif event== cv2.EVENT_MOUSEMOVE:\n",
    "        if draw ==True:\n",
    "            cv2.rectangle(image_window, (ix,iy), (x,y), (255,0,0), -1)\n",
    "    elif event == cv2.EVENT_LBUTTONUP:\n",
    "        draw = False\n",
    "        cv2.rectangle(image_window, (ix,iy), (x,y), (255,0,0), -1)\n",
    "\n",
    "#create a black windows\n",
    "image_window = np.zeros((512, 512,3), np.uint8)\n",
    "\n",
    "# Name window\n",
    "cv2.namedWindow('Image_window')\n",
    "\n",
    "#connecting the mouse\n",
    "cv2.setMouseCallback('Image_window',rectangle)\n",
    "\n",
    "\n",
    "\n",
    "while True:\n",
    "    cv2.imshow('Image_window', image_window)\n",
    "    \n",
    "    if cv2.waitKey(20) &0xFF==27:\n",
    "        break\n",
    "cv2.destroyAllWindows()"
   ]
  },
  {
   "cell_type": "code",
   "execution_count": null,
   "id": "c71d5af9",
   "metadata": {},
   "outputs": [],
   "source": []
  }
 ],
 "metadata": {
  "kernelspec": {
   "display_name": "Python 3",
   "language": "python",
   "name": "python3"
  },
  "language_info": {
   "codemirror_mode": {
    "name": "ipython",
    "version": 3
   },
   "file_extension": ".py",
   "mimetype": "text/x-python",
   "name": "python",
   "nbconvert_exporter": "python",
   "pygments_lexer": "ipython3",
   "version": "3.8.5"
  }
 },
 "nbformat": 4,
 "nbformat_minor": 5
}
