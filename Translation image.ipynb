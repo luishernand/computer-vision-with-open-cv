{
 "cells": [
  {
   "cell_type": "markdown",
   "id": "d20e70b2",
   "metadata": {},
   "source": [
    "# Image Translation"
   ]
  },
  {
   "cell_type": "code",
   "execution_count": 1,
   "id": "f68976fc",
   "metadata": {},
   "outputs": [],
   "source": [
    "# libraries use\n",
    "import numpy as np\n",
    "import cv2"
   ]
  },
  {
   "cell_type": "code",
   "execution_count": 2,
   "id": "b289947a",
   "metadata": {},
   "outputs": [],
   "source": [
    "#read image\n",
    "input_image = cv2.imread('car.jpg')\n",
    "cv2.imshow('Original', input_image)\n",
    "cv2.waitKey()\n",
    "\n",
    "#extrat heigth and width\n",
    "heigth, width = input_image.shape[:2]\n",
    "\n",
    "# divide by 4\n",
    "heigth_four, width_four = heigth/4, width/4\n",
    "\n",
    "#T matrix\n",
    "T =np.float32([[1,0, heigth_four], [0,1, width_four]])\n",
    "\n",
    "translation = cv2.warpAffine(input_image, T, (heigth, width))\n",
    "\n",
    "cv2.imshow('Trans', translation)\n",
    "cv2.waitKey()\n",
    "cv2.destroyAllWindows()"
   ]
  },
  {
   "cell_type": "code",
   "execution_count": null,
   "id": "e77b071b",
   "metadata": {},
   "outputs": [],
   "source": []
  }
 ],
 "metadata": {
  "kernelspec": {
   "display_name": "Python 3",
   "language": "python",
   "name": "python3"
  },
  "language_info": {
   "codemirror_mode": {
    "name": "ipython",
    "version": 3
   },
   "file_extension": ".py",
   "mimetype": "text/x-python",
   "name": "python",
   "nbconvert_exporter": "python",
   "pygments_lexer": "ipython3",
   "version": "3.8.5"
  }
 },
 "nbformat": 4,
 "nbformat_minor": 5
}
