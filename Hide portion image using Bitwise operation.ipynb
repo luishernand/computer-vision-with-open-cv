{
 "cells": [
  {
   "cell_type": "markdown",
   "id": "4343e26d",
   "metadata": {},
   "source": [
    "# Hide protion of image"
   ]
  },
  {
   "cell_type": "code",
   "execution_count": 1,
   "id": "94881a7d",
   "metadata": {},
   "outputs": [],
   "source": [
    "#libraries\n",
    "import numpy as np\n",
    "import cv2"
   ]
  },
  {
   "cell_type": "code",
   "execution_count": 3,
   "id": "a8f3520d",
   "metadata": {},
   "outputs": [],
   "source": [
    "# draw a chacel gresyscale square\n",
    "\n",
    "square_img = np.zeros((400,400,1), np.uint8)\n",
    "cv2.rectangle(square_img, (75,75), (300,300), 255, -2)\n",
    "cv2.imshow(\"Squared\", square_img)\n",
    "cv2.waitKey(0)\n",
    "\n",
    "# draw a chacel gresyscale circle\n",
    "circle_img = np.zeros((400,400,1), np.uint8)\n",
    "cv2.circle(circle_img, (300,300), 75, (255, 0,0), -1)\n",
    "cv2.imshow(\"Circle\", circle_img)\n",
    "cv2.waitKey(0)\n",
    "\n",
    "cv2.destroyAllWindows()"
   ]
  },
  {
   "cell_type": "markdown",
   "id": "8d7db2be",
   "metadata": {},
   "source": [
    "## bitwise Operation Shape"
   ]
  },
  {
   "cell_type": "code",
   "execution_count": 4,
   "id": "e6432a87",
   "metadata": {},
   "outputs": [],
   "source": [
    "AND_operation = cv2.bitwise_and(square_img, circle_img)\n",
    "cv2.imshow(\"And operation\", AND_operation)\n",
    "cv2.waitKey(0)\n",
    "\n",
    "OR_operation = cv2.bitwise_or(square_img, circle_img)\n",
    "cv2.imshow(\"OR operation\", OR_operation)\n",
    "cv2.waitKey(0)\n",
    "\n",
    "XOR_operation = cv2.bitwise_xor(square_img, circle_img)\n",
    "cv2.imshow(\"XOR operation\", XOR_operation)\n",
    "cv2.waitKey(0)\n",
    "\n",
    "NOT_operation = cv2.bitwise_not(square_img, circle_img)\n",
    "cv2.imshow(\"NOT operation\", NOT_operation)\n",
    "cv2.waitKey(0)\n",
    "\n",
    "cv2.destroyAllWindows()"
   ]
  },
  {
   "cell_type": "code",
   "execution_count": null,
   "id": "abf3fb4b",
   "metadata": {},
   "outputs": [],
   "source": []
  }
 ],
 "metadata": {
  "kernelspec": {
   "display_name": "Python 3",
   "language": "python",
   "name": "python3"
  },
  "language_info": {
   "codemirror_mode": {
    "name": "ipython",
    "version": 3
   },
   "file_extension": ".py",
   "mimetype": "text/x-python",
   "name": "python",
   "nbconvert_exporter": "python",
   "pygments_lexer": "ipython3",
   "version": "3.8.5"
  }
 },
 "nbformat": 4,
 "nbformat_minor": 5
}
