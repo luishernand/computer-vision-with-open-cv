{
 "cells": [
  {
   "cell_type": "markdown",
   "id": "d916271b",
   "metadata": {},
   "source": [
    "# Crop Image"
   ]
  },
  {
   "cell_type": "code",
   "execution_count": 1,
   "id": "d1750b43",
   "metadata": {},
   "outputs": [],
   "source": [
    "#libraries\n",
    "import numpy as np\n",
    "import cv2"
   ]
  },
  {
   "cell_type": "code",
   "execution_count": 5,
   "id": "08e3a7d2",
   "metadata": {},
   "outputs": [],
   "source": [
    "input_image = cv2.imread('people-1.jpg')\n",
    "cv2.imshow('Original', input_image)\n",
    "cv2.waitKey()\n",
    "cv2.destroyAllWindows()"
   ]
  },
  {
   "cell_type": "code",
   "execution_count": 9,
   "id": "8205e191",
   "metadata": {},
   "outputs": [],
   "source": [
    "# dimension\n",
    "heigth, width = input_image.shape[:2]\n",
    "\n",
    "# extrac the pixel\n",
    "start_row, star_col= int(heigth*.20), int(width*.20)\n",
    "end_row, end_col = int(heigth*.60), int(width*.60)\n",
    "\n",
    "#Use indexing\n",
    "crop_img = input_image[start_row:end_row, star_col:end_col]\n",
    "cv2.imshow('Crop Image', crop_img)\n",
    "cv2.waitKey()\n",
    "cv2.destroyAllWindows()"
   ]
  },
  {
   "cell_type": "code",
   "execution_count": null,
   "id": "0962495f",
   "metadata": {},
   "outputs": [],
   "source": []
  }
 ],
 "metadata": {
  "kernelspec": {
   "display_name": "Python 3",
   "language": "python",
   "name": "python3"
  },
  "language_info": {
   "codemirror_mode": {
    "name": "ipython",
    "version": 3
   },
   "file_extension": ".py",
   "mimetype": "text/x-python",
   "name": "python",
   "nbconvert_exporter": "python",
   "pygments_lexer": "ipython3",
   "version": "3.8.5"
  }
 },
 "nbformat": 4,
 "nbformat_minor": 5
}
