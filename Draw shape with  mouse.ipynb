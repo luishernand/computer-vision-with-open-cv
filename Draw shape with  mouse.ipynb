{
 "cells": [
  {
   "cell_type": "markdown",
   "id": "0191e2c1",
   "metadata": {},
   "source": [
    "#### Buiding shapes circle with the mouse"
   ]
  },
  {
   "cell_type": "code",
   "execution_count": 3,
   "id": "9c9d800e",
   "metadata": {},
   "outputs": [],
   "source": [
    "import numpy as np\n",
    "import cv2"
   ]
  },
  {
   "cell_type": "markdown",
   "id": "9290baac",
   "metadata": {},
   "source": [
    "## Building a Blue circle with letf button"
   ]
  },
  {
   "cell_type": "code",
   "execution_count": 12,
   "id": "d186b49d",
   "metadata": {},
   "outputs": [],
   "source": [
    "#create a circle shape function\n",
    "def circle(event, x, y, flagval, par):\n",
    "    if event == cv2.EVENT_LBUTTONDOWN:\n",
    "        cv2.circle(image_window,(x,y),50, (255,0,0), -1)\n",
    "#manage window\n",
    "cv2.namedWindow('Image_window')\n",
    "\n",
    "#connecting the mouse\n",
    "cv2.setMouseCallback('Image_window',circle)\n",
    "\n",
    "#create a black windows\n",
    "image_window = np.zeros((512, 512,3), np.uint8)\n",
    "\n",
    "while True:\n",
    "    cv2.imshow('Image_window', image_window)\n",
    "    \n",
    "    if cv2.waitKey(20) &0xFF==27:\n",
    "        break\n",
    "cv2.destroyAllWindows()"
   ]
  },
  {
   "cell_type": "markdown",
   "id": "603f4a92",
   "metadata": {},
   "source": [
    "## Building a Blue circle with letf button and Red circle to ritgh buttom"
   ]
  },
  {
   "cell_type": "code",
   "execution_count": 14,
   "id": "9f5ddf9e",
   "metadata": {},
   "outputs": [],
   "source": [
    "#create a circle shape function\n",
    "def circle(event, x, y, flagval, par):\n",
    "    if event == cv2.EVENT_LBUTTONDOWN:\n",
    "        cv2.circle(image_window,(x,y),50, (255,0,0), -1)\n",
    "    elif event== cv2.EVENT_RBUTTONDOWN:\n",
    "        cv2.circle(image_window,(x,y),50, (0,0,255), -1)\n",
    "        \n",
    "#manage window\n",
    "cv2.namedWindow('Image_window')\n",
    "\n",
    "#connecting the mouse\n",
    "cv2.setMouseCallback('Image_window',circle)\n",
    "\n",
    "#create a black windows\n",
    "image_window = np.zeros((512, 512,3), np.uint8)\n",
    "\n",
    "while True:\n",
    "    cv2.imshow('Image_window', image_window)\n",
    "    \n",
    "    if cv2.waitKey(20) &0xFF==27:\n",
    "        break\n",
    "cv2.destroyAllWindows()"
   ]
  }
 ],
 "metadata": {
  "kernelspec": {
   "display_name": "Python 3",
   "language": "python",
   "name": "python3"
  },
  "language_info": {
   "codemirror_mode": {
    "name": "ipython",
    "version": 3
   },
   "file_extension": ".py",
   "mimetype": "text/x-python",
   "name": "python",
   "nbconvert_exporter": "python",
   "pygments_lexer": "ipython3",
   "version": "3.8.5"
  }
 },
 "nbformat": 4,
 "nbformat_minor": 5
}
