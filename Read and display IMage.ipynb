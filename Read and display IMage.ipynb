{
 "cells": [
  {
   "cell_type": "markdown",
   "id": "b3366b6a",
   "metadata": {},
   "source": [
    "# Read and Display Image with open cv"
   ]
  },
  {
   "cell_type": "markdown",
   "id": "a6d66d99",
   "metadata": {},
   "source": [
    "## Libraries"
   ]
  },
  {
   "cell_type": "code",
   "execution_count": 1,
   "id": "c627c675",
   "metadata": {},
   "outputs": [],
   "source": [
    "import numpy as np\n",
    "import cv2"
   ]
  },
  {
   "cell_type": "markdown",
   "id": "8bf2204d",
   "metadata": {},
   "source": [
    "### Read or load image"
   ]
  },
  {
   "cell_type": "code",
   "execution_count": 2,
   "id": "220a0174",
   "metadata": {},
   "outputs": [],
   "source": [
    "input_image = cv2.imread('people-1.jpg')"
   ]
  },
  {
   "cell_type": "markdown",
   "id": "56c9c8d6",
   "metadata": {},
   "source": [
    "### Print dimension"
   ]
  },
  {
   "cell_type": "code",
   "execution_count": 3,
   "id": "b5741703",
   "metadata": {},
   "outputs": [
    {
     "data": {
      "text/plain": [
       "(1000, 2000, 3)"
      ]
     },
     "execution_count": 3,
     "metadata": {},
     "output_type": "execute_result"
    }
   ],
   "source": [
    "input_image.shape"
   ]
  },
  {
   "cell_type": "markdown",
   "id": "03eb3d0d",
   "metadata": {},
   "source": [
    "### Show Image"
   ]
  },
  {
   "cell_type": "code",
   "execution_count": 4,
   "id": "6ac60f38",
   "metadata": {},
   "outputs": [],
   "source": [
    "cv2.imshow('fisrt image', input_image)\n",
    "cv2.waitKey(0) # put the time of open image\n",
    "cv2.destroyAllWindows()"
   ]
  },
  {
   "cell_type": "markdown",
   "id": "e115ee4f",
   "metadata": {},
   "source": [
    "## Read with gray scale"
   ]
  },
  {
   "cell_type": "code",
   "execution_count": 5,
   "id": "6829710e",
   "metadata": {},
   "outputs": [],
   "source": [
    "input_gray = cv2.imread('ced.jpg', 0)\n",
    "cv2.imshow('gray Scale', input_gray)\n",
    "cv2.waitKey()\n",
    "cv2.destroyAllWindows()"
   ]
  },
  {
   "cell_type": "markdown",
   "id": "1398f052",
   "metadata": {},
   "source": [
    "### Change image to gray scale"
   ]
  },
  {
   "cell_type": "code",
   "execution_count": 7,
   "id": "474b4645",
   "metadata": {},
   "outputs": [],
   "source": [
    "input_image = cv2.imread('people-1.jpg')\n",
    "gray_img = cv2.cvtColor(input_image, cv2.COLOR_BGR2GRAY)\n",
    "cv2.imshow(' Change gray Scale', gray_img)\n",
    "cv2.waitKey()\n",
    "cv2.destroyAllWindows()"
   ]
  },
  {
   "cell_type": "markdown",
   "id": "ddd6bd93",
   "metadata": {},
   "source": [
    "## save Image"
   ]
  },
  {
   "cell_type": "code",
   "execution_count": null,
   "id": "05bfc5f5",
   "metadata": {},
   "outputs": [],
   "source": [
    "cv2.imwrite('o')"
   ]
  }
 ],
 "metadata": {
  "kernelspec": {
   "display_name": "Python 3",
   "language": "python",
   "name": "python3"
  },
  "language_info": {
   "codemirror_mode": {
    "name": "ipython",
    "version": 3
   },
   "file_extension": ".py",
   "mimetype": "text/x-python",
   "name": "python",
   "nbconvert_exporter": "python",
   "pygments_lexer": "ipython3",
   "version": "3.8.5"
  }
 },
 "nbformat": 4,
 "nbformat_minor": 5
}
