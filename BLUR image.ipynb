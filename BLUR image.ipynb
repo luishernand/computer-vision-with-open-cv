{
 "cells": [
  {
   "cell_type": "markdown",
   "id": "be50d456",
   "metadata": {},
   "source": [
    "#  Blur Image"
   ]
  },
  {
   "cell_type": "code",
   "execution_count": 1,
   "id": "97dd1a70",
   "metadata": {},
   "outputs": [],
   "source": [
    "import numpy as np\n",
    "import cv2"
   ]
  },
  {
   "cell_type": "code",
   "execution_count": 2,
   "id": "32119976",
   "metadata": {},
   "outputs": [],
   "source": [
    "img_data = cv2.imread('car.jpg')\n",
    "cv2.imshow('Original Imagen', img_data)\n",
    "cv2.waitKey(0)\n",
    "\n",
    "#create 5 x5 kernel\n",
    "kernel_size = np.ones((5,5), np.float32)/25\n",
    "\n",
    "#bulr img\n",
    "blur_img = cv2.filter2D(img_data, -1,kernel_size, )\n",
    "cv2.imshow('Blur Imagen', blur_img)\n",
    "cv2.waitKey(0)\n",
    "cv2.destroyAllWindows()"
   ]
  },
  {
   "cell_type": "code",
   "execution_count": 3,
   "id": "7345d6bd",
   "metadata": {},
   "outputs": [],
   "source": [
    "#create a 9x9 kernel\n",
    "\n",
    "kernel_9_9 = np.ones((9,9), np.float32)/25\n",
    "\n",
    "#Blured\n",
    "blur_img2 = cv2.filter2D(img_data, -1,kernel_size, )\n",
    "cv2.imshow('Blur Imagen 9x9', blur_img2)\n",
    "cv2.waitKey(0)\n",
    "cv2.destroyAllWindows()"
   ]
  },
  {
   "cell_type": "code",
   "execution_count": 10,
   "id": "ddfc480e",
   "metadata": {},
   "outputs": [],
   "source": [
    "# Gaussian Blur\n",
    "img_data = cv2.imread('car.jpg')\n",
    "cv2.imshow('Original Imagen', img_data)\n",
    "cv2.waitKey(0)\n",
    "\n",
    "#Gaussian Blur\n",
    "gausian = cv2.GaussianBlur(img_data, (7,7), 0)\n",
    "cv2.imshow('Gaussian', gausian)\n",
    "cv2.waitKey(0)\n",
    "\n",
    "#Avg Blur\n",
    "avg_blur = cv2.blur(img_data, (3,3))\n",
    "cv2.imshow('AVG Blur', avg_blur)\n",
    "cv2.waitKey(0)\n",
    "\n",
    "#median Blur\n",
    "median_blur = cv2.medianBlur(img_data, 5)\n",
    "cv2.imshow('median Blur', median_blur)\n",
    "cv2.waitKey(0)\n",
    "\n",
    "#Bilateral Blur\n",
    "bilateral_blur = cv2.bilateralFilter(img_data, 9,75,75)\n",
    "cv2.imshow('Bilateral Blur', bilateral_blur)\n",
    "cv2.waitKey(0)\n",
    "\n",
    "\n",
    "cv2.destroyAllWindows()"
   ]
  },
  {
   "cell_type": "code",
   "execution_count": null,
   "id": "81b1799a",
   "metadata": {},
   "outputs": [],
   "source": []
  }
 ],
 "metadata": {
  "kernelspec": {
   "display_name": "Python 3",
   "language": "python",
   "name": "python3"
  },
  "language_info": {
   "codemirror_mode": {
    "name": "ipython",
    "version": 3
   },
   "file_extension": ".py",
   "mimetype": "text/x-python",
   "name": "python",
   "nbconvert_exporter": "python",
   "pygments_lexer": "ipython3",
   "version": "3.8.5"
  }
 },
 "nbformat": 4,
 "nbformat_minor": 5
}
