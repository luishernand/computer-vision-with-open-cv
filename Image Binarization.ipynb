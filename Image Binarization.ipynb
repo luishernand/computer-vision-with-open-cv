{
 "cells": [
  {
   "cell_type": "markdown",
   "id": "c7a18e52",
   "metadata": {},
   "source": [
    "# Image Binarizaton"
   ]
  },
  {
   "cell_type": "code",
   "execution_count": 1,
   "id": "789c9e95",
   "metadata": {},
   "outputs": [],
   "source": [
    "#import libraies\n",
    "import numpy as np\n",
    "import cv2"
   ]
  },
  {
   "cell_type": "code",
   "execution_count": 2,
   "id": "451cfb50",
   "metadata": {},
   "outputs": [],
   "source": [
    "#read img grayscale\n",
    "img_data = cv2.imread('car.jpg', 0)\n",
    "cv2.imshow('Original Imagen', img_data)\n",
    "cv2.waitKey(0)\n",
    "\n",
    "#values below to 127 set to black\n",
    "ret, threshold_1 = cv2.threshold(img_data, 127, 255, cv2.THRESH_BINARY)\n",
    "cv2.imshow('threshol_d1 ', threshold_1)\n",
    "cv2.waitKey(0)\n",
    "\n",
    "#values below to 127 set to withe\n",
    "ret, threshold_2 = cv2.threshold(img_data, 127, 255, cv2.THRESH_BINARY_INV)\n",
    "cv2.imshow('threshol_d2 ', threshold_2)\n",
    "cv2.waitKey(0)\n",
    "\n",
    "#values above to 127 truncaded\n",
    "ret, threshold_3 = cv2.threshold(img_data, 127, 255, cv2.THRESH_TRUNC)\n",
    "cv2.imshow('threshol_d3 ', threshold_3)\n",
    "cv2.waitKey(0)\n",
    "\n",
    "\n",
    "cv2.destroyAllWindows()"
   ]
  },
  {
   "cell_type": "code",
   "execution_count": 5,
   "id": "4516c9a7",
   "metadata": {},
   "outputs": [],
   "source": [
    "#read img grayscale\n",
    "img_data = cv2.imread('car.jpg', 0)\n",
    "cv2.imshow('Original Imagen', img_data)\n",
    "cv2.waitKey(0)\n",
    "\n",
    "#values below to 127 set to black\n",
    "ret, threshold_1 = cv2.threshold(img_data, 127, 255, cv2.THRESH_BINARY)\n",
    "cv2.imshow('threshol_d1 ', threshold_1)\n",
    "cv2.waitKey(0)\n",
    "\n",
    "\n",
    "#gausian blur\n",
    "\n",
    "blur_img = cv2.GaussianBlur(img_data, (3,3), 0)\n",
    "\n",
    "\n",
    "# using adaptive thresholding\n",
    "\n",
    "adp_img = cv2.adaptiveThreshold(blur_img, 255, cv2.ADAPTIVE_THRESH_MEAN_C,\n",
    "                               cv2.THRESH_BINARY, 3,5)\n",
    "\n",
    "cv2.imshow('Adaptive ', adp_img)\n",
    "cv2.waitKey(0)\n",
    "\n",
    "cv2.destroyAllWindows()"
   ]
  }
 ],
 "metadata": {
  "kernelspec": {
   "display_name": "Python 3",
   "language": "python",
   "name": "python3"
  },
  "language_info": {
   "codemirror_mode": {
    "name": "ipython",
    "version": 3
   },
   "file_extension": ".py",
   "mimetype": "text/x-python",
   "name": "python",
   "nbconvert_exporter": "python",
   "pygments_lexer": "ipython3",
   "version": "3.8.5"
  }
 },
 "nbformat": 4,
 "nbformat_minor": 5
}
