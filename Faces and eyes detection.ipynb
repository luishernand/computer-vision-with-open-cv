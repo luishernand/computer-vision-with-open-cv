{
 "cells": [
  {
   "cell_type": "markdown",
   "id": "f1a943f3",
   "metadata": {},
   "source": [
    "# Faces and Eyes detection"
   ]
  },
  {
   "cell_type": "markdown",
   "id": "28b4ca29",
   "metadata": {},
   "source": [
    "### Libraries"
   ]
  },
  {
   "cell_type": "code",
   "execution_count": 1,
   "id": "2b224112",
   "metadata": {},
   "outputs": [],
   "source": [
    "import numpy as np\n",
    "import cv2"
   ]
  },
  {
   "cell_type": "code",
   "execution_count": 7,
   "id": "bb9f0677",
   "metadata": {},
   "outputs": [
    {
     "name": "stderr",
     "output_type": "stream",
     "text": [
      "<>:18: SyntaxWarning: \"is\" with a literal. Did you mean \"==\"?\n",
      "<>:18: SyntaxWarning: \"is\" with a literal. Did you mean \"==\"?\n",
      "<ipython-input-7-a1c6296a2846>:18: SyntaxWarning: \"is\" with a literal. Did you mean \"==\"?\n",
      "  if faces is ():\n"
     ]
    }
   ],
   "source": [
    "# We point OpenCV's CascadeClassifier function to where our \n",
    "# classifier (XML file format) is stored\n",
    "\n",
    "face_classifier = cv2.CascadeClassifier('haarcascade_frontalface_default.xml')\n",
    "\n",
    "#load image\n",
    "input_image= cv2.imread('./imagenes/obama.jpg')\n",
    "\n",
    "#convert to gray scale\n",
    "gray_image = cv2.cvtColor(input_image, cv2.COLOR_BGR2GRAY)\n",
    "\n",
    "\n",
    "# Our classifier returns the ROI of the detected face as a tuple\n",
    "# It stores the top left coordinate and the bottom right coordiantes\n",
    "faces = face_classifier.detectMultiScale(gray_image, 1.3, 5)\n",
    "\n",
    "# When no faces detected, face_classifier returns and empty tuple\n",
    "if faces is ():\n",
    "    print(\"No Faces Found\")\n",
    "\n",
    "# We iterate through our faces array and draw a rectangle\n",
    "# over each face in faces\n",
    "    \n",
    "for (x,y,w, h) in faces:\n",
    "    cv2.rectangle(input_image, (x,y), (x+w, y+h), (127, 0, 255), 2)\n",
    "    cv2.imshow('Face detection', input_image)\n",
    "    cv2.waitKey(0)\n",
    "    \n",
    "cv2.destroyAllWindows()   \n"
   ]
  },
  {
   "cell_type": "markdown",
   "id": "634982b1",
   "metadata": {},
   "source": [
    "### Combine faces and eyes detection"
   ]
  },
  {
   "cell_type": "code",
   "execution_count": 11,
   "id": "3884568e",
   "metadata": {},
   "outputs": [
    {
     "name": "stderr",
     "output_type": "stream",
     "text": [
      "<>:16: SyntaxWarning: \"is\" with a literal. Did you mean \"==\"?\n",
      "<>:16: SyntaxWarning: \"is\" with a literal. Did you mean \"==\"?\n",
      "<ipython-input-11-15e5a11dd742>:16: SyntaxWarning: \"is\" with a literal. Did you mean \"==\"?\n",
      "  if faces is ():\n"
     ]
    }
   ],
   "source": [
    "face_classifier = cv2.CascadeClassifier('haarcascade_frontalface_default.xml')\n",
    "eyes_classifier = cv2.CascadeClassifier('haarcascade_eye.xml')\n",
    "\n",
    "#load image\n",
    "input_image= cv2.imread('./imagenes/modi.jpg')\n",
    "\n",
    "#convert to gray scale\n",
    "gray_image = cv2.cvtColor(input_image, cv2.COLOR_BGR2GRAY)\n",
    "\n",
    "\n",
    "# Our classifier returns the ROI of the detected face as a tuple\n",
    "# It stores the top left coordinate and the bottom right coordiantes\n",
    "faces = face_classifier.detectMultiScale(gray_image, 1.3, 5)\n",
    "\n",
    "# When no faces detected, face_classifier returns and empty tuple\n",
    "if faces is ():\n",
    "    print(\"No Faces Found\")\n",
    "\n",
    "# We iterate through our faces array and draw a rectangle\n",
    "# over each face in faces\n",
    "    \n",
    "for (x,y,w, h) in faces:\n",
    "    cv2.rectangle(input_image, (x,y), (x+w, y+h), (127, 0, 255), 2)\n",
    "    cv2.imshow('img', input_image)\n",
    "    cv2.waitKey(0)\n",
    "    roid_gray = gray_image[y:y+h, x:x+w]\n",
    "    roid_color = input_image[y:y+h, x:x+w]\n",
    "    eyes = eyes_classifier.detectMultiScale(roid_gray)\n",
    "    for (ex, ey, ew, eh) in eyes:\n",
    "        cv2.rectangle(roid_color, (ex,ey), (ex+ew, ey+eh), (255, 255, 0), 2)\n",
    "        cv2.imshow('img', input_image)\n",
    "        cv2.waitKey(0)\n",
    "    \n",
    "cv2.destroyAllWindows() "
   ]
  },
  {
   "cell_type": "markdown",
   "id": "46440c0c",
   "metadata": {},
   "source": [
    "### Live face & eye detection"
   ]
  },
  {
   "cell_type": "code",
   "execution_count": 13,
   "id": "fd18bd93",
   "metadata": {},
   "outputs": [
    {
     "name": "stderr",
     "output_type": "stream",
     "text": [
      "<>:8: SyntaxWarning: \"is\" with a literal. Did you mean \"==\"?\n",
      "<>:8: SyntaxWarning: \"is\" with a literal. Did you mean \"==\"?\n",
      "<ipython-input-13-63c4bac7101e>:8: SyntaxWarning: \"is\" with a literal. Did you mean \"==\"?\n",
      "  if faces is ():\n"
     ]
    }
   ],
   "source": [
    "face_classifier = cv2.CascadeClassifier('haarcascade_frontalface_default.xml')\n",
    "eyes_classifier = cv2.CascadeClassifier('haarcascade_eye.xml')\n",
    "\n",
    "def face_detector(img, size= 0.5):\n",
    "    #convert img to gray scale\n",
    "    gray = cv2.cvtColor(img, cv2.COLOR_BGR2GRAY)\n",
    "    faces = face_classifier.detectMultiScale(gray_image, 1.3, 5)\n",
    "    if faces is ():\n",
    "        return img\n",
    "\n",
    "    for (x,y,w, h) in faces:\n",
    "        x = x-50\n",
    "        y = y-50\n",
    "        w = w-50\n",
    "        h=h-50\n",
    "        cv2.rectangle(input_image, (x,y), (x+w, y+h), (127, 0, 255), 2)\n",
    "        roid_gray = gray_image[y:y+h, x:x+w]\n",
    "        roid_color = input_image[y:y+h, x:x+w]\n",
    "        eyes = eyes_classifier.detectMultiScale(roid_gray)\n",
    "        \n",
    "        for (ex, ey, ew, eh) in eyes:\n",
    "            cv2.rectangle(roid_color, (ex,ey), (ex+ew, ey+eh), (255, 255, 0), 2)\n",
    "    roid_color = cv2.flip(roid_color, 1)\n",
    "    return roid_color\n",
    "\n",
    "cap = cv2.VideoCapture(0)\n",
    "\n",
    "while True:\n",
    "    ret, frame = cap.read()\n",
    "    cv2.imshow('Face Detector', face_detector(frame))\n",
    "    if cv2.waitKey(1) ==13: #13 is the Enter Key\n",
    "        break\n",
    "cap.release()\n",
    "cv2.destroyAllWindows()"
   ]
  },
  {
   "cell_type": "code",
   "execution_count": null,
   "id": "dfc75d1c",
   "metadata": {},
   "outputs": [],
   "source": []
  }
 ],
 "metadata": {
  "kernelspec": {
   "display_name": "Python 3",
   "language": "python",
   "name": "python3"
  },
  "language_info": {
   "codemirror_mode": {
    "name": "ipython",
    "version": 3
   },
   "file_extension": ".py",
   "mimetype": "text/x-python",
   "name": "python",
   "nbconvert_exporter": "python",
   "pygments_lexer": "ipython3",
   "version": "3.8.5"
  }
 },
 "nbformat": 4,
 "nbformat_minor": 5
}
