{
 "cells": [
  {
   "cell_type": "markdown",
   "id": "5ad859ea",
   "metadata": {},
   "source": [
    "# Riseze scale "
   ]
  },
  {
   "cell_type": "code",
   "execution_count": 1,
   "id": "d90da4c4",
   "metadata": {},
   "outputs": [],
   "source": [
    "# libraries\n",
    "import numpy as np\n",
    "import cv2"
   ]
  },
  {
   "cell_type": "code",
   "execution_count": 6,
   "id": "cf99e45c",
   "metadata": {},
   "outputs": [],
   "source": [
    "# read image\n",
    "input_image = cv2.imread('car.jpg')\n",
    "cv2.imshow('Original Image', input_image)\n",
    "cv2.waitKey()\n",
    "\n",
    "# Make image 1.5 time than original\n",
    "image2 = cv2.resize(input_image, None, fx = 1.5, fy = 1.5, interpolation = cv2.INTER_AREA)\n",
    "cv2.imshow('Image Resize 1.5', image2)\n",
    "cv2.waitKey()\n",
    "\n",
    "# skewwe by setting exact dimesnion\n",
    "image3 = cv2.resize(input_image, (700, 500), cv2.INTER_AREA)\n",
    "cv2.imshow('Resise 700', image3)\n",
    "cv2.waitKey()\n",
    "\n",
    "\n",
    "cv2.destroyAllWindows()"
   ]
  }
 ],
 "metadata": {
  "kernelspec": {
   "display_name": "Python 3",
   "language": "python",
   "name": "python3"
  },
  "language_info": {
   "codemirror_mode": {
    "name": "ipython",
    "version": 3
   },
   "file_extension": ".py",
   "mimetype": "text/x-python",
   "name": "python",
   "nbconvert_exporter": "python",
   "pygments_lexer": "ipython3",
   "version": "3.8.5"
  }
 },
 "nbformat": 4,
 "nbformat_minor": 5
}
