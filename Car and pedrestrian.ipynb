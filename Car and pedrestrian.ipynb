{
 "cells": [
  {
   "cell_type": "markdown",
   "id": "6388550a",
   "metadata": {},
   "source": [
    "# Car & Pedretrian detection"
   ]
  },
  {
   "cell_type": "markdown",
   "id": "dff3a2bc",
   "metadata": {},
   "source": [
    "### Pedistrian Detection Body"
   ]
  },
  {
   "cell_type": "code",
   "execution_count": 2,
   "id": "f744dfeb",
   "metadata": {},
   "outputs": [],
   "source": [
    "import numpy as np\n",
    "import cv2"
   ]
  },
  {
   "cell_type": "code",
   "execution_count": 1,
   "id": "f9ff8700",
   "metadata": {},
   "outputs": [],
   "source": [
    "import numpy as np\n",
    "import cv2\n",
    "\n",
    "\n",
    "body_classifier = cv2.CascadeClassifier('haarcascade_fullbody.xml')\n",
    "cap = cv2.VideoCapture('imagenes/walking.avi')\n",
    "\n",
    "while cap.isOpened():\n",
    "    ret, frame = cap.read()\n",
    "    gray = cv2.cvtColor(frame, cv2.COLOR_BGR2GRAY)\n",
    "    bodies = body_classifier.detectMultiScale(gray, 1.2, 3)\n",
    "    \n",
    "    # Extract bounding boxes for any bodies identified\n",
    "    for (x,y,w, h) in bodies:\n",
    "        cv2.rectangle(frame, (x,y), (x+w, y+h), (0.255, 0), 2)\n",
    "        cv2.imshow('Body Detection', frame)\n",
    "        \n",
    "    if cv2.waitKey(1) ==13:\n",
    "        break\n",
    "    \n",
    "cap.release()\n",
    "cv2.destroyAllWindows()   "
   ]
  },
  {
   "cell_type": "markdown",
   "id": "c106f501",
   "metadata": {},
   "source": [
    "### Car detection"
   ]
  },
  {
   "cell_type": "code",
   "execution_count": null,
   "id": "fb20d11f",
   "metadata": {},
   "outputs": [],
   "source": [
    "car_classifier = cv2.CascadeClassifier('haarcascade_car.xml')\n",
    "cap = cv2.VideoCapture('imagenes/walking.avi')\n",
    "\n",
    "while cap.isOpened():\n",
    "    ret, frame = cap.read()\n",
    "    gray = cv2.cvtColor(frame, cv2.COLOR_BGR2GRAY)\n",
    "    bodies = car_classifier.detectMultiScale(gray, 1.2, 3)\n",
    "    \n",
    "    # Extract bounding boxes for any bodies identified\n",
    "    for (x,y,w, h) in bodies:\n",
    "        cv2.rectangle(frame, (x,y), (x+w, y+h), (0.255, 0), 2)\n",
    "        cv2.imshow('Body Detection', frame)\n",
    "        \n",
    "    if cv2.waitKey(1) ==13:\n",
    "        break\n",
    "    \n",
    "cap.release()\n",
    "cv2.destroyAllWindows()   "
   ]
  }
 ],
 "metadata": {
  "kernelspec": {
   "display_name": "Python 3",
   "language": "python",
   "name": "python3"
  },
  "language_info": {
   "codemirror_mode": {
    "name": "ipython",
    "version": 3
   },
   "file_extension": ".py",
   "mimetype": "text/x-python",
   "name": "python",
   "nbconvert_exporter": "python",
   "pygments_lexer": "ipython3",
   "version": "3.8.5"
  }
 },
 "nbformat": 4,
 "nbformat_minor": 5
}
