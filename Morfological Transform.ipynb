{
 "cells": [
  {
   "cell_type": "markdown",
   "id": "67cd6a54",
   "metadata": {},
   "source": [
    "# Morfological Transform"
   ]
  },
  {
   "cell_type": "code",
   "execution_count": 1,
   "id": "3f94242a",
   "metadata": {},
   "outputs": [],
   "source": [
    "#import libraies\n",
    "import numpy as np\n",
    "import cv2"
   ]
  },
  {
   "cell_type": "code",
   "execution_count": 3,
   "id": "bcdab2de",
   "metadata": {},
   "outputs": [],
   "source": [
    "#read img grayscale\n",
    "img_data = cv2.imread('car.jpg', 0)\n",
    "cv2.imshow('Original Imagen', img_data)\n",
    "cv2.waitKey(0)\n",
    "\n",
    "#Kernel\n",
    "kernel = np.ones((5,5), np.uint8)\n",
    "\n",
    "#erop operation\n",
    "erop = cv2.erode(img_data, kernel, iterations = 1)\n",
    "cv2.imshow('Erode', erop)\n",
    "cv2.waitKey(0)\n",
    "\n",
    "#Dilatetion operation\n",
    "\n",
    "dila_op = cv2.dilate(img_data, kernel, iterations = 1)\n",
    "cv2.imshow('Dilatetion', dila_op)\n",
    "cv2.waitKey(0)\n",
    "\n",
    "cv2.destroyAllWindows()"
   ]
  },
  {
   "cell_type": "code",
   "execution_count": null,
   "id": "70cf7e37",
   "metadata": {},
   "outputs": [],
   "source": []
  }
 ],
 "metadata": {
  "kernelspec": {
   "display_name": "Python 3",
   "language": "python",
   "name": "python3"
  },
  "language_info": {
   "codemirror_mode": {
    "name": "ipython",
    "version": 3
   },
   "file_extension": ".py",
   "mimetype": "text/x-python",
   "name": "python",
   "nbconvert_exporter": "python",
   "pygments_lexer": "ipython3",
   "version": "3.8.5"
  }
 },
 "nbformat": 4,
 "nbformat_minor": 5
}
