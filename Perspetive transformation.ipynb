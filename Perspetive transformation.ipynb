{
 "cells": [
  {
   "cell_type": "code",
   "execution_count": 1,
   "id": "4268e8d8",
   "metadata": {},
   "outputs": [],
   "source": [
    "# libraries use\n",
    "import numpy as np\n",
    "import cv2"
   ]
  },
  {
   "cell_type": "code",
   "execution_count": 2,
   "id": "1c4e4487",
   "metadata": {},
   "outputs": [],
   "source": [
    "#read image\n",
    "input_image = cv2.imread('car.jpg')\n",
    "cv2.imshow('Original', input_image)\n",
    "cv2.waitKey()\n",
    "cv2.destroyAllWindows()"
   ]
  },
  {
   "cell_type": "code",
   "execution_count": 5,
   "id": "7a6e7df0",
   "metadata": {},
   "outputs": [
    {
     "name": "stderr",
     "output_type": "stream",
     "text": [
      "<ipython-input-5-2b098cb4a19b>:5: DeprecationWarning: an integer is required (got type numpy.float32).  Implicit conversion to integers using __int__ is deprecated, and may be removed in a future version of Python.\n",
      "  cv2.circle(input_image, (orig_coord[x][0], orig_coord[x][1]), 5, (255,0,0), -1 )\n"
     ]
    }
   ],
   "source": [
    "# create coord\n",
    "orig_coord = np.float32([[112,36],[217, 39], [149,137], [260,103]])\n",
    "\n",
    "for x in range(0,4):\n",
    "    cv2.circle(input_image, (orig_coord[x][0], orig_coord[x][1]), 5, (255,0,0), -1 )\n",
    "    \n",
    "cv2.imshow('puntos', input_image)\n",
    "cv2.waitKey()\n",
    "cv2.destroyAllWindows()"
   ]
  },
  {
   "cell_type": "code",
   "execution_count": null,
   "id": "b306e418",
   "metadata": {},
   "outputs": [],
   "source": []
  }
 ],
 "metadata": {
  "kernelspec": {
   "display_name": "Python 3",
   "language": "python",
   "name": "python3"
  },
  "language_info": {
   "codemirror_mode": {
    "name": "ipython",
    "version": 3
   },
   "file_extension": ".py",
   "mimetype": "text/x-python",
   "name": "python",
   "nbconvert_exporter": "python",
   "pygments_lexer": "ipython3",
   "version": "3.8.5"
  }
 },
 "nbformat": 4,
 "nbformat_minor": 5
}
