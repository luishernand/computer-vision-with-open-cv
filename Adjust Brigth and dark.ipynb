{
 "cells": [
  {
   "cell_type": "markdown",
   "id": "a8dad5ac",
   "metadata": {},
   "source": [
    "# Adjust darkness or brigthness"
   ]
  },
  {
   "cell_type": "code",
   "execution_count": 1,
   "id": "72be0bbc",
   "metadata": {},
   "outputs": [],
   "source": [
    "import numpy as np\n",
    "import cv2"
   ]
  },
  {
   "cell_type": "code",
   "execution_count": null,
   "id": "ddf10fd7",
   "metadata": {},
   "outputs": [],
   "source": [
    "input_image = cv2.imread('car.jpg')\n",
    "cv2.imshow('Original',input_image)\n",
    "\n",
    "# intensivtive matirx\n",
    "inten_max = np.ones(input_image.shape, dtype='uint8')*60\n",
    "\n",
    "#brigthness\n",
    "brigth_img = cv2.add(input_image, inten_max)\n",
    "cv2.imshow('Brithness', brigth_img)\n",
    "\n",
    "#darkness\n",
    "drak_img = cv2.subtract(input_image, inten_max)\n",
    "cv2.imshow('darkness', drak_img)\n",
    "\n",
    "cv2.waitKey()\n",
    "cv2.destroyAllWindows()"
   ]
  },
  {
   "cell_type": "code",
   "execution_count": null,
   "id": "62a6dc6c",
   "metadata": {},
   "outputs": [],
   "source": []
  }
 ],
 "metadata": {
  "kernelspec": {
   "display_name": "Python 3",
   "language": "python",
   "name": "python3"
  },
  "language_info": {
   "codemirror_mode": {
    "name": "ipython",
    "version": 3
   },
   "file_extension": ".py",
   "mimetype": "text/x-python",
   "name": "python",
   "nbconvert_exporter": "python",
   "pygments_lexer": "ipython3",
   "version": "3.8.5"
  }
 },
 "nbformat": 4,
 "nbformat_minor": 5
}
