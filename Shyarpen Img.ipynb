{
 "cells": [
  {
   "cell_type": "markdown",
   "id": "5b14e784",
   "metadata": {},
   "source": [
    "# Sharpen Image"
   ]
  },
  {
   "cell_type": "code",
   "execution_count": 1,
   "id": "8e20daef",
   "metadata": {},
   "outputs": [],
   "source": [
    "import numpy as np\n",
    "import cv2"
   ]
  },
  {
   "cell_type": "code",
   "execution_count": 2,
   "id": "6e3007c3",
   "metadata": {},
   "outputs": [],
   "source": [
    "img_data = cv2.imread('car.jpg')\n",
    "cv2.imshow('Original Imagen', img_data)\n",
    "cv2.waitKey(0)\n",
    "\n",
    "#create a sharpen kernel\n",
    "sharpen_filter = np.array([\n",
    "    [-1,-1,-1],\n",
    "    [-1,9,-1],\n",
    "    [-1,-1,-1]    \n",
    "])\n",
    "\n",
    "sharpen_img = cv2.filter2D(img_data, -1,sharpen_filter)\n",
    "cv2.imshow('Sharpen Imagen', sharpen_img)\n",
    "cv2.waitKey(0)\n",
    "cv2.destroyAllWindows()"
   ]
  },
  {
   "cell_type": "code",
   "execution_count": null,
   "id": "7879f68d",
   "metadata": {},
   "outputs": [],
   "source": []
  }
 ],
 "metadata": {
  "kernelspec": {
   "display_name": "Python 3",
   "language": "python",
   "name": "python3"
  },
  "language_info": {
   "codemirror_mode": {
    "name": "ipython",
    "version": 3
   },
   "file_extension": ".py",
   "mimetype": "text/x-python",
   "name": "python",
   "nbconvert_exporter": "python",
   "pygments_lexer": "ipython3",
   "version": "3.8.5"
  }
 },
 "nbformat": 4,
 "nbformat_minor": 5
}
