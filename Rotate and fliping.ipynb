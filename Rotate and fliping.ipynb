{
 "cells": [
  {
   "cell_type": "markdown",
   "id": "391b23cc",
   "metadata": {},
   "source": [
    "# Rotate Image"
   ]
  },
  {
   "cell_type": "code",
   "execution_count": 1,
   "id": "534ebfba",
   "metadata": {},
   "outputs": [],
   "source": [
    "# libraries use\n",
    "import numpy as np\n",
    "import cv2"
   ]
  },
  {
   "cell_type": "code",
   "execution_count": 5,
   "id": "473df955",
   "metadata": {},
   "outputs": [],
   "source": [
    "#read image\n",
    "input_image = cv2.imread('car.jpg')\n",
    "cv2.imshow('Original', input_image)\n",
    "cv2.waitKey()\n",
    "\n",
    "#extrat heigth and width\n",
    "heigth, width = input_image.shape[:2]\n",
    "\n",
    "#divide by four\n",
    "rotation_mat = cv2.getRotationMatrix2D((width/2,heigth/2), 45, .5 )\n",
    "\n",
    "rot_image = cv2.warpAffine( input_image, rotation_mat,(width, heigth))\n",
    "cv2.imshow('Rotation', rot_image)\n",
    "cv2.waitKey()\n",
    "\n",
    "cv2.destroyAllWindows()"
   ]
  },
  {
   "cell_type": "markdown",
   "id": "64a7bb23",
   "metadata": {},
   "source": [
    "### Horizontal flip"
   ]
  },
  {
   "cell_type": "code",
   "execution_count": 8,
   "id": "105778d4",
   "metadata": {},
   "outputs": [],
   "source": [
    "flip_img = cv2.flip(input_image, 0)\n",
    "cv2.imshow('Rotation Horizontal', flip_img)\n",
    "cv2.waitKey()\n",
    "\n",
    "cv2.destroyAllWindows()"
   ]
  },
  {
   "cell_type": "markdown",
   "id": "ea7401f0",
   "metadata": {},
   "source": [
    "### Vertical flip"
   ]
  },
  {
   "cell_type": "code",
   "execution_count": 9,
   "id": "bfe2f0e9",
   "metadata": {},
   "outputs": [],
   "source": [
    "flip_image= cv2.flip(input_image, 1)\n",
    "cv2.imshow('Rotation Vertical', flip_image)\n",
    "cv2.waitKey()\n",
    "\n",
    "cv2.destroyAllWindows()"
   ]
  }
 ],
 "metadata": {
  "kernelspec": {
   "display_name": "Python 3",
   "language": "python",
   "name": "python3"
  },
  "language_info": {
   "codemirror_mode": {
    "name": "ipython",
    "version": 3
   },
   "file_extension": ".py",
   "mimetype": "text/x-python",
   "name": "python",
   "nbconvert_exporter": "python",
   "pygments_lexer": "ipython3",
   "version": "3.8.5"
  }
 },
 "nbformat": 4,
 "nbformat_minor": 5
}
