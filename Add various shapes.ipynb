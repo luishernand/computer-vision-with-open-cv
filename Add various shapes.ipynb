{
 "cells": [
  {
   "cell_type": "markdown",
   "id": "1ff8fd1a",
   "metadata": {},
   "source": [
    "# Add various shapes"
   ]
  },
  {
   "cell_type": "markdown",
   "id": "97d4caee",
   "metadata": {},
   "source": [
    "## import libraries"
   ]
  },
  {
   "cell_type": "code",
   "execution_count": 1,
   "id": "57837033",
   "metadata": {},
   "outputs": [],
   "source": [
    "import numpy as np\n",
    "import cv2"
   ]
  },
  {
   "cell_type": "code",
   "execution_count": 3,
   "id": "b8b5c8e1",
   "metadata": {},
   "outputs": [],
   "source": [
    "#create black image or window\n",
    "black_image = np.zeros((1024, 1024,3), np.uint8) # is like the dimension of jpg picture"
   ]
  },
  {
   "cell_type": "code",
   "execution_count": 5,
   "id": "1ce6417f",
   "metadata": {},
   "outputs": [
    {
     "data": {
      "text/plain": [
       "(1024, 1024, 3)"
      ]
     },
     "execution_count": 5,
     "metadata": {},
     "output_type": "execute_result"
    }
   ],
   "source": [
    "black_image.shape"
   ]
  },
  {
   "cell_type": "code",
   "execution_count": 6,
   "id": "223a51e6",
   "metadata": {},
   "outputs": [],
   "source": [
    "cv2.imshow('black windows', black_image)\n",
    "cv2.waitKey()\n",
    "cv2.destroyAllWindows()"
   ]
  },
  {
   "cell_type": "markdown",
   "id": "3a76cf38",
   "metadata": {},
   "source": [
    "## Drawing a line inside black windows"
   ]
  },
  {
   "cell_type": "code",
   "execution_count": 7,
   "id": "bfb0fcf2",
   "metadata": {},
   "outputs": [],
   "source": [
    "# create a black window 512,512,3 +> ancho largo\n",
    "black_image = np.zeros((512, 512,3), np.uint8)\n",
    "\n",
    "#Draw line \n",
    "cv2.line(black_image, (1,1),(250,250), (100, 255,0), 4)\n",
    "cv2.imshow('Drawing Line', black_image)\n",
    "cv2.waitKey()\n",
    "cv2.destroyAllWindows()"
   ]
  },
  {
   "cell_type": "markdown",
   "id": "ffeb3ff4",
   "metadata": {},
   "source": [
    "### Drawing a Circle"
   ]
  },
  {
   "cell_type": "code",
   "execution_count": 8,
   "id": "a4bb4a05",
   "metadata": {},
   "outputs": [],
   "source": [
    "# create a black window 512,512,3 +> ancho largo\n",
    "black_image = np.zeros((512, 512,3), np.uint8)\n",
    "\n",
    "#circle\n",
    "cv2.circle(black_image, (200,200), 75, (255,0,0), -1)\n",
    "#show image\n",
    "cv2.imshow('Drawing Line', black_image)\n",
    "cv2.waitKey()\n",
    "cv2.destroyAllWindows()"
   ]
  },
  {
   "cell_type": "markdown",
   "id": "886a1e59",
   "metadata": {},
   "source": [
    "### Drawing a rectangle"
   ]
  },
  {
   "cell_type": "code",
   "execution_count": 10,
   "id": "5f8f09ff",
   "metadata": {},
   "outputs": [],
   "source": [
    "# create a black window 512,512,3 +> ancho largo\n",
    "black_image = np.zeros((512, 512,3), np.uint8)\n",
    "\n",
    "#rectangle\n",
    "cv2.rectangle(black_image,(50,100), (250, 250), (110,110,90), -1)\n",
    "#show image\n",
    "cv2.imshow('Drawing rectangle', black_image)\n",
    "cv2.waitKey()\n",
    "cv2.destroyAllWindows()"
   ]
  },
  {
   "cell_type": "markdown",
   "id": "0af72632",
   "metadata": {},
   "source": [
    "### Add text"
   ]
  },
  {
   "cell_type": "code",
   "execution_count": 12,
   "id": "b81605f8",
   "metadata": {},
   "outputs": [],
   "source": [
    "# create a black window 512,512,3 +> ancho largo\n",
    "black_image = np.zeros((512, 512,3), np.uint8)\n",
    "\n",
    "#put text\n",
    "cv2.putText(black_image, 'This is a Text', (10,100), cv2.FONT_HERSHEY_SCRIPT_COMPLEX, 2, (100,17,0),1)\n",
    "#show image\n",
    "cv2.imshow('Add text', black_image)\n",
    "cv2.waitKey()\n",
    "cv2.destroyAllWindows()"
   ]
  },
  {
   "cell_type": "markdown",
   "id": "23707c72",
   "metadata": {},
   "source": [
    "### Draw a polygon"
   ]
  },
  {
   "cell_type": "code",
   "execution_count": 18,
   "id": "e4506874",
   "metadata": {},
   "outputs": [],
   "source": [
    "# create a black window 512,512,3 +> ancho largo\n",
    "black_image = np.zeros((512, 512,3), np.uint8)\n",
    "\n",
    "#define polygons\n",
    "pts = np.array([[25,65], [415, 65], [80,150],[400,500]], np.int32)\n",
    "pts = pts.reshape((-1,1,2))\n",
    "#polygon\n",
    "cv2.polylines(black_image, [pts],True, (255,255,255), 3)\n",
    "#show image\n",
    "cv2.imshow('Drawing Line', black_image)\n",
    "cv2.waitKey()\n",
    "cv2.destroyAllWindows()"
   ]
  }
 ],
 "metadata": {
  "kernelspec": {
   "display_name": "Python 3",
   "language": "python",
   "name": "python3"
  },
  "language_info": {
   "codemirror_mode": {
    "name": "ipython",
    "version": 3
   },
   "file_extension": ".py",
   "mimetype": "text/x-python",
   "name": "python",
   "nbconvert_exporter": "python",
   "pygments_lexer": "ipython3",
   "version": "3.8.5"
  }
 },
 "nbformat": 4,
 "nbformat_minor": 5
}
